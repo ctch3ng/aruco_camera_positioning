{
 "cells": [
  {
   "cell_type": "code",
   "execution_count": 7,
   "id": "8db49528-a648-47c4-b806-549bbec9d3a3",
   "metadata": {},
   "outputs": [],
   "source": [
    "import numpy as np\n",
    "import cv2 as cv\n",
    "import glob\n",
    " \n",
    "# termination criteria\n",
    "criteria = (cv.TERM_CRITERIA_EPS + cv.TERM_CRITERIA_MAX_ITER, 30, 0.001)\n",
    " \n",
    "# prepare object points, like (0,0,0), (1,0,0), (2,0,0) ....,(6,5,0)\n",
    "objp = np.zeros((6*9,3), np.float32)\n",
    "objp[:,:2] = np.mgrid[0:9,0:6].T.reshape(-1,2)\n",
    " \n",
    "# Arrays to store object points and image points from all the images.\n",
    "objpoints = [] # 3d point in real world space\n",
    "imgpoints = [] # 2d points in image plane.\n",
    " \n",
    "images = glob.glob('*.jpg')\n",
    " \n",
    "for fname in images:\n",
    "    img = cv.imread(fname)\n",
    "    gray = cv.cvtColor(img, cv.COLOR_BGR2GRAY)\n",
    " \n",
    "    # Find the chess board corners\n",
    "    ret, corners = cv.findChessboardCorners(gray, (9,6), None)\n",
    " \n",
    "    # If found, add object points, image points (after refining them)\n",
    "    if ret == True:\n",
    "        objpoints.append(objp)\n",
    " \n",
    "        corners2 = cv.cornerSubPix(gray,corners, (11,11), (-1,-1), criteria)\n",
    "        imgpoints.append(corners2)\n",
    " \n",
    "    # Draw and display the corners\n",
    "    cv.drawChessboardCorners(img, (9,6), corners2, ret)\n",
    "    cv.imshow('img', img)\n",
    "    cv.waitKey(500)\n",
    " \n",
    "cv.destroyAllWindows()"
   ]
  },
  {
   "cell_type": "code",
   "execution_count": 10,
   "id": "8fb4ae7f-5442-4c92-8be3-4f0d6e59deb6",
   "metadata": {},
   "outputs": [],
   "source": [
    "ret, mtx, dist, rvecs, tvecs = cv.calibrateCamera(objpoints, imgpoints, gray.shape[::-1], None, None)"
   ]
  },
  {
   "cell_type": "code",
   "execution_count": 11,
   "id": "f13b9c75-e6b1-4574-bb8f-5ca9cecf7163",
   "metadata": {},
   "outputs": [
    {
     "name": "stdout",
     "output_type": "stream",
     "text": [
      "0.09602840355180012\n"
     ]
    }
   ],
   "source": [
    "print(ret)"
   ]
  },
  {
   "cell_type": "code",
   "execution_count": 12,
   "id": "8a3eb94f-6a40-4844-8973-b5e44656c769",
   "metadata": {},
   "outputs": [
    {
     "name": "stdout",
     "output_type": "stream",
     "text": [
      "[[1.43732902e+03 0.00000000e+00 9.18169372e+02]\n",
      " [0.00000000e+00 1.43392453e+03 4.98012271e+02]\n",
      " [0.00000000e+00 0.00000000e+00 1.00000000e+00]]\n"
     ]
    }
   ],
   "source": [
    "print(mtx)"
   ]
  },
  {
   "cell_type": "code",
   "execution_count": 13,
   "id": "83388fba-1b82-4a98-9bd9-3e7f18f9fc0c",
   "metadata": {},
   "outputs": [
    {
     "name": "stdout",
     "output_type": "stream",
     "text": [
      "[[ 0.04581915 -0.19300152 -0.00258579 -0.00148166  0.15929305]]\n"
     ]
    }
   ],
   "source": [
    "print(dist)"
   ]
  },
  {
   "cell_type": "code",
   "execution_count": 14,
   "id": "9a2f6842-a572-4dc9-aa98-844938ed4847",
   "metadata": {},
   "outputs": [
    {
     "name": "stdout",
     "output_type": "stream",
     "text": [
      "(array([[ 0.08152177],\n",
      "       [-0.4450178 ],\n",
      "       [ 0.00463631]]), array([[ 0.0915969 ],\n",
      "       [-0.4907986 ],\n",
      "       [ 0.01283345]]), array([[ 0.0915532 ],\n",
      "       [-0.49155125],\n",
      "       [ 0.01315168]]), array([[ 0.08166987],\n",
      "       [-0.31518788],\n",
      "       [ 0.01933996]]), array([[-0.03220467],\n",
      "       [-0.29383851],\n",
      "       [ 0.00260983]]), array([[ 0.0205415 ],\n",
      "       [-0.75300422],\n",
      "       [ 0.01225453]]), array([[ 0.1967437 ],\n",
      "       [-0.82801817],\n",
      "       [ 0.17544949]]))\n"
     ]
    }
   ],
   "source": [
    "print(rvecs)"
   ]
  },
  {
   "cell_type": "code",
   "execution_count": 15,
   "id": "0e67a215-9993-4aac-8890-8dfa6b8ada3b",
   "metadata": {},
   "outputs": [
    {
     "name": "stdout",
     "output_type": "stream",
     "text": [
      "(array([[ 1.53770859],\n",
      "       [ 0.63433305],\n",
      "       [25.75492686]]), array([[-2.28128318],\n",
      "       [-0.71970556],\n",
      "       [24.22037083]]), array([[ 3.5808177 ],\n",
      "       [-1.37531986],\n",
      "       [27.29560702]]), array([[ 8.37024195],\n",
      "       [-1.01213883],\n",
      "       [26.69605539]]), array([[ 8.77813661],\n",
      "       [ 4.19630174],\n",
      "       [27.87559639]]), array([[-11.21132632],\n",
      "       [  2.13590112],\n",
      "       [ 22.49925628]]), array([[-9.76446817],\n",
      "       [-3.6152466 ],\n",
      "       [20.21724468]]))\n"
     ]
    }
   ],
   "source": [
    "print(tvecs)"
   ]
  },
  {
   "cell_type": "code",
   "execution_count": 17,
   "id": "85c2cb64-c131-4b9e-bd55-9ab494175016",
   "metadata": {},
   "outputs": [],
   "source": [
    "np.save(\"mtx.npy\", mtx); np.save(\"dist.npy\", dist)"
   ]
  },
  {
   "cell_type": "code",
   "execution_count": null,
   "id": "618d8180-e5c6-41ce-8ddf-46a0270c0d45",
   "metadata": {},
   "outputs": [],
   "source": []
  }
 ],
 "metadata": {
  "kernelspec": {
   "display_name": "Python 3 (ipykernel)",
   "language": "python",
   "name": "python3"
  },
  "language_info": {
   "codemirror_mode": {
    "name": "ipython",
    "version": 3
   },
   "file_extension": ".py",
   "mimetype": "text/x-python",
   "name": "python",
   "nbconvert_exporter": "python",
   "pygments_lexer": "ipython3",
   "version": "3.9.18"
  }
 },
 "nbformat": 4,
 "nbformat_minor": 5
}
